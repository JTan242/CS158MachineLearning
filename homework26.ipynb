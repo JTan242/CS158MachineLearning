{
 "cells": [
  {
   "cell_type": "markdown",
   "metadata": {
    "id": "QsqtD65bt_XD"
   },
   "source": [
    "**Homework 26**"
   ]
  },
  {
   "cell_type": "markdown",
   "metadata": {
    "id": "LdM_EK8hhZBU"
   },
   "source": [
    "In this assignment you'll explore a sentiment analysis task. We start with the usual imports:\n"
   ]
  },
  {
   "cell_type": "code",
   "execution_count": 1,
   "metadata": {
    "id": "pPqrGaF4NHsf"
   },
   "outputs": [
    {
     "data": {
      "text/plain": [
       "'cpu'"
      ]
     },
     "execution_count": 1,
     "metadata": {},
     "output_type": "execute_result"
    }
   ],
   "source": [
    "import torch\n",
    "from torch import nn\n",
    "from torch.optim import Adam\n",
    "import numpy as np\n",
    "\n",
    "device=('cuda' if torch.cuda.is_available()\n",
    "        else 'mps' if torch.backends.mps.is_available()\n",
    "        else 'cpu')\n",
    "\n",
    "device"
   ]
  },
  {
   "cell_type": "markdown",
   "metadata": {
    "id": "ZhxAHUuAxW4w"
   },
   "source": [
    "We now load the imdb movie review dataset that is packaged with keras. We'll only load the first 100 words of each review (if they are longer), and restrict to a 10,000 word vocabulary. The target variable y will be an array of 0's and 1's, indicating a positive or negative review.  "
   ]
  },
  {
   "cell_type": "code",
   "execution_count": 2,
   "metadata": {
    "id": "rt8OJvhBxT0x"
   },
   "outputs": [
    {
     "name": "stdout",
     "output_type": "stream",
     "text": [
      "Requirement already satisfied: keras in c:\\users\\jeremy tan\\appdata\\local\\packages\\pythonsoftwarefoundation.python.3.10_qbz5n2kfra8p0\\localcache\\local-packages\\python310\\site-packages (3.9.2)\n",
      "Requirement already satisfied: numpy==1.24.3 in c:\\users\\jeremy tan\\appdata\\local\\packages\\pythonsoftwarefoundation.python.3.10_qbz5n2kfra8p0\\localcache\\local-packages\\python310\\site-packages (1.24.3)\n",
      "Requirement already satisfied: ml-dtypes in c:\\users\\jeremy tan\\appdata\\local\\packages\\pythonsoftwarefoundation.python.3.10_qbz5n2kfra8p0\\localcache\\local-packages\\python310\\site-packages (from keras) (0.5.1)\n",
      "Requirement already satisfied: optree in c:\\users\\jeremy tan\\appdata\\local\\packages\\pythonsoftwarefoundation.python.3.10_qbz5n2kfra8p0\\localcache\\local-packages\\python310\\site-packages (from keras) (0.15.0)\n",
      "Requirement already satisfied: h5py in c:\\users\\jeremy tan\\appdata\\local\\packages\\pythonsoftwarefoundation.python.3.10_qbz5n2kfra8p0\\localcache\\local-packages\\python310\\site-packages (from keras) (3.13.0)\n",
      "Requirement already satisfied: rich in c:\\users\\jeremy tan\\appdata\\local\\packages\\pythonsoftwarefoundation.python.3.10_qbz5n2kfra8p0\\localcache\\local-packages\\python310\\site-packages (from keras) (14.0.0)\n",
      "Requirement already satisfied: packaging in c:\\users\\jeremy tan\\appdata\\local\\packages\\pythonsoftwarefoundation.python.3.10_qbz5n2kfra8p0\\localcache\\local-packages\\python310\\site-packages (from keras) (24.2)\n",
      "Requirement already satisfied: absl-py in c:\\users\\jeremy tan\\appdata\\local\\packages\\pythonsoftwarefoundation.python.3.10_qbz5n2kfra8p0\\localcache\\local-packages\\python310\\site-packages (from keras) (2.2.2)\n",
      "Requirement already satisfied: namex in c:\\users\\jeremy tan\\appdata\\local\\packages\\pythonsoftwarefoundation.python.3.10_qbz5n2kfra8p0\\localcache\\local-packages\\python310\\site-packages (from keras) (0.0.9)\n",
      "Requirement already satisfied: typing-extensions>=4.5.0 in c:\\users\\jeremy tan\\appdata\\local\\packages\\pythonsoftwarefoundation.python.3.10_qbz5n2kfra8p0\\localcache\\local-packages\\python310\\site-packages (from optree->keras) (4.13.2)\n",
      "Requirement already satisfied: markdown-it-py>=2.2.0 in c:\\users\\jeremy tan\\appdata\\local\\packages\\pythonsoftwarefoundation.python.3.10_qbz5n2kfra8p0\\localcache\\local-packages\\python310\\site-packages (from rich->keras) (3.0.0)\n",
      "Requirement already satisfied: pygments<3.0.0,>=2.13.0 in c:\\users\\jeremy tan\\appdata\\local\\packages\\pythonsoftwarefoundation.python.3.10_qbz5n2kfra8p0\\localcache\\local-packages\\python310\\site-packages (from rich->keras) (2.19.1)\n",
      "Requirement already satisfied: mdurl~=0.1 in c:\\users\\jeremy tan\\appdata\\local\\packages\\pythonsoftwarefoundation.python.3.10_qbz5n2kfra8p0\\localcache\\local-packages\\python310\\site-packages (from markdown-it-py>=2.2.0->rich->keras) (0.1.2)\n"
     ]
    },
    {
     "name": "stderr",
     "output_type": "stream",
     "text": [
      "WARNING: Ignoring invalid distribution -rotobuf (c:\\users\\jeremy tan\\appdata\\local\\packages\\pythonsoftwarefoundation.python.3.10_qbz5n2kfra8p0\\localcache\\local-packages\\python310\\site-packages)\n",
      "WARNING: Ignoring invalid distribution -rotobuf (c:\\users\\jeremy tan\\appdata\\local\\packages\\pythonsoftwarefoundation.python.3.10_qbz5n2kfra8p0\\localcache\\local-packages\\python310\\site-packages)\n",
      "WARNING: Ignoring invalid distribution -rotobuf (c:\\users\\jeremy tan\\appdata\\local\\packages\\pythonsoftwarefoundation.python.3.10_qbz5n2kfra8p0\\localcache\\local-packages\\python310\\site-packages)\n",
      "WARNING: Ignoring invalid distribution -rotobuf (c:\\users\\jeremy tan\\appdata\\local\\packages\\pythonsoftwarefoundation.python.3.10_qbz5n2kfra8p0\\localcache\\local-packages\\python310\\site-packages)\n",
      "WARNING: Ignoring invalid distribution -rotobuf (c:\\users\\jeremy tan\\appdata\\local\\packages\\pythonsoftwarefoundation.python.3.10_qbz5n2kfra8p0\\localcache\\local-packages\\python310\\site-packages)\n",
      "WARNING: Ignoring invalid distribution -rotobuf (c:\\users\\jeremy tan\\appdata\\local\\packages\\pythonsoftwarefoundation.python.3.10_qbz5n2kfra8p0\\localcache\\local-packages\\python310\\site-packages)\n",
      "\n",
      "[notice] A new release of pip is available: 23.0.1 -> 25.1\n",
      "[notice] To update, run: C:\\Users\\Jeremy Tan\\AppData\\Local\\Microsoft\\WindowsApps\\PythonSoftwareFoundation.Python.3.10_qbz5n2kfra8p0\\python.exe -m pip install --upgrade pip\n",
      "WARNING: Ignoring invalid distribution -rotobuf (c:\\users\\jeremy tan\\appdata\\local\\packages\\pythonsoftwarefoundation.python.3.10_qbz5n2kfra8p0\\localcache\\local-packages\\python310\\site-packages)\n",
      "WARNING: Ignoring invalid distribution -rotobuf (c:\\users\\jeremy tan\\appdata\\local\\packages\\pythonsoftwarefoundation.python.3.10_qbz5n2kfra8p0\\localcache\\local-packages\\python310\\site-packages)\n",
      "WARNING: Skipping tensorflow as it is not installed.\n"
     ]
    },
    {
     "name": "stdout",
     "output_type": "stream",
     "text": [
      "Collecting tensorflow==2.14.0\n",
      "  Using cached tensorflow-2.14.0-cp310-cp310-win_amd64.whl (2.1 kB)\n",
      "Collecting tensorflow-intel==2.14.0\n",
      "  Downloading tensorflow_intel-2.14.0-cp310-cp310-win_amd64.whl (284.1 MB)\n",
      "     ---------------------------------------- 0.0/284.1 MB ? eta -:--:--\n",
      "     --------------------------------------- 0.3/284.1 MB 10.2 MB/s eta 0:00:28\n",
      "     --------------------------------------- 0.9/284.1 MB 14.5 MB/s eta 0:00:20\n",
      "     --------------------------------------- 1.4/284.1 MB 12.8 MB/s eta 0:00:23\n",
      "     --------------------------------------- 2.0/284.1 MB 12.5 MB/s eta 0:00:23\n",
      "     --------------------------------------- 2.7/284.1 MB 12.1 MB/s eta 0:00:24\n",
      "     --------------------------------------- 3.5/284.1 MB 13.8 MB/s eta 0:00:21\n",
      "      -------------------------------------- 3.9/284.1 MB 12.4 MB/s eta 0:00:23\n",
      "      -------------------------------------- 4.4/284.1 MB 12.9 MB/s eta 0:00:22\n",
      "      -------------------------------------- 5.3/284.1 MB 13.5 MB/s eta 0:00:21\n",
      "      -------------------------------------- 6.0/284.1 MB 13.7 MB/s eta 0:00:21\n",
      "      -------------------------------------- 7.2/284.1 MB 14.8 MB/s eta 0:00:19\n",
      "     - ------------------------------------- 7.6/284.1 MB 14.4 MB/s eta 0:00:20\n",
      "     - ------------------------------------- 8.7/284.1 MB 15.1 MB/s eta 0:00:19\n",
      "     - ------------------------------------- 9.8/284.1 MB 15.7 MB/s eta 0:00:18\n",
      "     - ------------------------------------ 11.1/284.1 MB 16.8 MB/s eta 0:00:17\n",
      "     - ------------------------------------ 12.4/284.1 MB 19.3 MB/s eta 0:00:15\n",
      "     - ------------------------------------ 13.8/284.1 MB 20.5 MB/s eta 0:00:14\n",
      "     -- ----------------------------------- 15.2/284.1 MB 24.2 MB/s eta 0:00:12\n",
      "     -- ----------------------------------- 16.3/284.1 MB 26.2 MB/s eta 0:00:11\n",
      "     -- ----------------------------------- 17.7/284.1 MB 27.3 MB/s eta 0:00:10\n",
      "     -- ----------------------------------- 19.1/284.1 MB 28.5 MB/s eta 0:00:10\n",
      "     -- ----------------------------------- 20.5/284.1 MB 28.5 MB/s eta 0:00:10\n",
      "     -- ----------------------------------- 21.9/284.1 MB 29.8 MB/s eta 0:00:09\n",
      "     --- ---------------------------------- 23.3/284.1 MB 29.8 MB/s eta 0:00:09\n",
      "     --- ---------------------------------- 24.8/284.1 MB 31.2 MB/s eta 0:00:09\n",
      "     --- ---------------------------------- 26.1/284.1 MB 31.2 MB/s eta 0:00:09\n",
      "     --- ---------------------------------- 27.6/284.1 MB 31.2 MB/s eta 0:00:09\n",
      "     --- ---------------------------------- 29.0/284.1 MB 31.2 MB/s eta 0:00:09\n",
      "     ---- --------------------------------- 30.2/284.1 MB 31.2 MB/s eta 0:00:09\n",
      "     ---- --------------------------------- 31.6/284.1 MB 31.1 MB/s eta 0:00:09\n",
      "     ---- --------------------------------- 33.0/284.1 MB 29.8 MB/s eta 0:00:09\n",
      "     ---- --------------------------------- 34.1/284.1 MB 29.8 MB/s eta 0:00:09\n",
      "     ---- --------------------------------- 35.5/284.1 MB 29.7 MB/s eta 0:00:09\n",
      "     ---- --------------------------------- 36.8/284.1 MB 28.5 MB/s eta 0:00:09\n",
      "     ----- -------------------------------- 37.9/284.1 MB 29.8 MB/s eta 0:00:09\n",
      "     ----- -------------------------------- 39.1/284.1 MB 27.3 MB/s eta 0:00:09\n",
      "     ----- -------------------------------- 40.2/284.1 MB 28.5 MB/s eta 0:00:09\n",
      "     ----- -------------------------------- 40.2/284.1 MB 28.5 MB/s eta 0:00:09\n",
      "     ----- -------------------------------- 41.2/284.1 MB 23.4 MB/s eta 0:00:11\n",
      "     ----- -------------------------------- 42.4/284.1 MB 22.6 MB/s eta 0:00:11\n",
      "     ----- -------------------------------- 43.7/284.1 MB 24.2 MB/s eta 0:00:10\n",
      "     ------ ------------------------------- 45.2/284.1 MB 23.4 MB/s eta 0:00:11\n",
      "     ------ ------------------------------- 46.5/284.1 MB 24.2 MB/s eta 0:00:10\n",
      "     ------ ------------------------------- 48.0/284.1 MB 23.4 MB/s eta 0:00:11\n",
      "     ------ ------------------------------- 49.4/284.1 MB 25.2 MB/s eta 0:00:10\n",
      "     ------ ------------------------------- 50.9/284.1 MB 31.2 MB/s eta 0:00:08\n",
      "     ------ ------------------------------- 52.3/284.1 MB 31.2 MB/s eta 0:00:08\n",
      "     ------- ------------------------------ 53.6/284.1 MB 31.2 MB/s eta 0:00:08\n",
      "     ------- ------------------------------ 55.1/284.1 MB 31.1 MB/s eta 0:00:08\n",
      "     ------- ------------------------------ 56.5/284.1 MB 31.2 MB/s eta 0:00:08\n",
      "     ------- ------------------------------ 57.8/284.1 MB 31.2 MB/s eta 0:00:08\n",
      "     ------- ------------------------------ 59.3/284.1 MB 31.2 MB/s eta 0:00:08\n",
      "     -------- ----------------------------- 60.7/284.1 MB 31.2 MB/s eta 0:00:08\n",
      "     -------- ----------------------------- 62.0/284.1 MB 29.7 MB/s eta 0:00:08\n",
      "     -------- ----------------------------- 62.9/284.1 MB 29.7 MB/s eta 0:00:08\n",
      "     -------- ----------------------------- 64.3/284.1 MB 28.4 MB/s eta 0:00:08\n",
      "     -------- ----------------------------- 65.8/284.1 MB 28.4 MB/s eta 0:00:08\n",
      "     -------- ----------------------------- 67.3/284.1 MB 29.8 MB/s eta 0:00:08\n",
      "     --------- ---------------------------- 68.2/284.1 MB 28.5 MB/s eta 0:00:08\n",
      "     --------- ---------------------------- 69.4/284.1 MB 27.3 MB/s eta 0:00:08\n",
      "     --------- ---------------------------- 70.9/284.1 MB 27.3 MB/s eta 0:00:08\n",
      "     --------- ---------------------------- 72.2/284.1 MB 27.3 MB/s eta 0:00:08\n",
      "     --------- ---------------------------- 73.6/284.1 MB 28.4 MB/s eta 0:00:08\n",
      "     ---------- --------------------------- 74.9/284.1 MB 29.7 MB/s eta 0:00:08\n",
      "     ---------- --------------------------- 76.2/284.1 MB 29.7 MB/s eta 0:00:07\n",
      "     ---------- --------------------------- 77.6/284.1 MB 28.4 MB/s eta 0:00:08\n",
      "     ---------- --------------------------- 78.9/284.1 MB 29.7 MB/s eta 0:00:07\n",
      "     ---------- --------------------------- 80.3/284.1 MB 28.5 MB/s eta 0:00:08\n",
      "     ---------- --------------------------- 81.6/284.1 MB 29.8 MB/s eta 0:00:07\n",
      "     ----------- -------------------------- 82.9/284.1 MB 29.8 MB/s eta 0:00:07\n",
      "     ----------- -------------------------- 84.3/284.1 MB 29.7 MB/s eta 0:00:07\n",
      "     ----------- -------------------------- 85.6/284.1 MB 29.7 MB/s eta 0:00:07\n",
      "     ----------- -------------------------- 86.9/284.1 MB 29.7 MB/s eta 0:00:07\n",
      "     ----------- -------------------------- 88.1/284.1 MB 28.4 MB/s eta 0:00:07\n",
      "     ----------- -------------------------- 88.6/284.1 MB 26.2 MB/s eta 0:00:08\n",
      "     ------------ ------------------------- 89.9/284.1 MB 26.2 MB/s eta 0:00:08\n",
      "     ------------ ------------------------- 91.4/284.1 MB 26.2 MB/s eta 0:00:08\n",
      "     ------------ ------------------------- 92.7/284.1 MB 26.2 MB/s eta 0:00:08\n",
      "     ------------ ------------------------- 94.1/284.1 MB 26.2 MB/s eta 0:00:08\n",
      "     ------------ ------------------------- 94.9/284.1 MB 25.2 MB/s eta 0:00:08\n",
      "     ------------ ------------------------- 96.1/284.1 MB 25.2 MB/s eta 0:00:08\n",
      "     ------------- ------------------------ 97.4/284.1 MB 25.2 MB/s eta 0:00:08\n",
      "     ------------- ------------------------ 98.2/284.1 MB 25.2 MB/s eta 0:00:08\n",
      "     ------------- ------------------------ 99.6/284.1 MB 26.2 MB/s eta 0:00:08\n",
      "     ------------- ----------------------- 100.9/284.1 MB 26.2 MB/s eta 0:00:07\n",
      "     ------------- ----------------------- 102.2/284.1 MB 27.3 MB/s eta 0:00:07\n",
      "     ------------- ----------------------- 103.6/284.1 MB 26.2 MB/s eta 0:00:07\n",
      "     ------------- ----------------------- 104.9/284.1 MB 27.3 MB/s eta 0:00:07\n",
      "     ------------- ----------------------- 106.2/284.1 MB 28.5 MB/s eta 0:00:07\n",
      "     -------------- ---------------------- 107.6/284.1 MB 28.5 MB/s eta 0:00:07\n",
      "     -------------- ---------------------- 108.9/284.1 MB 29.7 MB/s eta 0:00:06\n",
      "     -------------- ---------------------- 110.3/284.1 MB 29.7 MB/s eta 0:00:06\n",
      "     -------------- ---------------------- 111.6/284.1 MB 29.7 MB/s eta 0:00:06\n",
      "     -------------- ---------------------- 112.9/284.1 MB 29.7 MB/s eta 0:00:06\n",
      "     -------------- ---------------------- 114.1/284.1 MB 28.4 MB/s eta 0:00:06\n",
      "     --------------- --------------------- 115.2/284.1 MB 28.5 MB/s eta 0:00:06\n",
      "     --------------- --------------------- 116.6/284.1 MB 28.5 MB/s eta 0:00:06\n",
      "     --------------- --------------------- 117.9/284.1 MB 28.5 MB/s eta 0:00:06\n",
      "     --------------- --------------------- 119.2/284.1 MB 28.5 MB/s eta 0:00:06\n",
      "     --------------- --------------------- 120.6/284.1 MB 28.5 MB/s eta 0:00:06\n",
      "     --------------- --------------------- 121.8/284.1 MB 27.3 MB/s eta 0:00:06\n",
      "     ---------------- -------------------- 123.1/284.1 MB 27.3 MB/s eta 0:00:06\n",
      "     ---------------- -------------------- 124.4/284.1 MB 28.4 MB/s eta 0:00:06\n",
      "     ---------------- -------------------- 125.6/284.1 MB 28.4 MB/s eta 0:00:06\n",
      "     ---------------- -------------------- 126.9/284.1 MB 28.4 MB/s eta 0:00:06\n",
      "     ---------------- -------------------- 128.3/284.1 MB 27.3 MB/s eta 0:00:06\n",
      "     ---------------- -------------------- 129.5/284.1 MB 28.5 MB/s eta 0:00:06\n",
      "     ----------------- ------------------- 130.6/284.1 MB 28.5 MB/s eta 0:00:06\n",
      "     ----------------- ------------------- 132.0/284.1 MB 28.5 MB/s eta 0:00:06\n",
      "     ----------------- ------------------- 133.3/284.1 MB 28.5 MB/s eta 0:00:06\n",
      "     ----------------- ------------------- 134.3/284.1 MB 27.3 MB/s eta 0:00:06\n",
      "     ----------------- ------------------- 135.7/284.1 MB 27.3 MB/s eta 0:00:06\n",
      "     ----------------- ------------------- 137.0/284.1 MB 27.3 MB/s eta 0:00:06\n",
      "     ------------------ ------------------ 138.3/284.1 MB 27.3 MB/s eta 0:00:06\n",
      "     ------------------ ------------------ 139.7/284.1 MB 27.3 MB/s eta 0:00:06\n",
      "     ------------------ ------------------ 140.8/284.1 MB 27.3 MB/s eta 0:00:06\n",
      "     ------------------ ------------------ 142.2/284.1 MB 27.3 MB/s eta 0:00:06\n",
      "     ------------------ ------------------ 143.5/284.1 MB 27.3 MB/s eta 0:00:06\n",
      "     ------------------ ------------------ 144.8/284.1 MB 28.5 MB/s eta 0:00:05\n",
      "     ------------------- ----------------- 146.2/284.1 MB 28.4 MB/s eta 0:00:05\n",
      "     ------------------- ----------------- 147.5/284.1 MB 28.4 MB/s eta 0:00:05\n",
      "     ------------------- ----------------- 148.7/284.1 MB 28.4 MB/s eta 0:00:05\n",
      "     ------------------- ----------------- 150.3/284.1 MB 28.5 MB/s eta 0:00:05\n",
      "     ------------------- ----------------- 151.4/284.1 MB 29.7 MB/s eta 0:00:05\n",
      "     ------------------- ----------------- 152.9/284.1 MB 28.5 MB/s eta 0:00:05\n",
      "     -------------------- ---------------- 154.1/284.1 MB 28.5 MB/s eta 0:00:05\n",
      "     -------------------- ---------------- 155.4/284.1 MB 28.5 MB/s eta 0:00:05\n",
      "     -------------------- ---------------- 156.7/284.1 MB 29.7 MB/s eta 0:00:05\n",
      "     -------------------- ---------------- 158.1/284.1 MB 29.7 MB/s eta 0:00:05\n",
      "     -------------------- ---------------- 159.6/284.1 MB 29.7 MB/s eta 0:00:05\n",
      "     -------------------- ---------------- 160.9/284.1 MB 29.7 MB/s eta 0:00:05\n",
      "     --------------------- --------------- 162.2/284.1 MB 29.7 MB/s eta 0:00:05\n",
      "     --------------------- --------------- 163.8/284.1 MB 29.7 MB/s eta 0:00:05\n",
      "     --------------------- --------------- 165.2/284.1 MB 29.8 MB/s eta 0:00:04\n",
      "     --------------------- --------------- 166.6/284.1 MB 31.2 MB/s eta 0:00:04\n",
      "     --------------------- --------------- 168.0/284.1 MB 31.2 MB/s eta 0:00:04\n",
      "     --------------------- --------------- 168.8/284.1 MB 28.5 MB/s eta 0:00:05\n",
      "     ---------------------- -------------- 169.8/284.1 MB 27.3 MB/s eta 0:00:05\n",
      "     ---------------------- -------------- 171.1/284.1 MB 27.3 MB/s eta 0:00:05\n",
      "     ---------------------- -------------- 172.5/284.1 MB 28.4 MB/s eta 0:00:04\n",
      "     ---------------------- -------------- 173.8/284.1 MB 27.3 MB/s eta 0:00:05\n",
      "     ---------------------- -------------- 174.6/284.1 MB 26.2 MB/s eta 0:00:05\n",
      "     ---------------------- -------------- 175.8/284.1 MB 26.2 MB/s eta 0:00:05\n",
      "     ----------------------- ------------- 177.2/284.1 MB 25.2 MB/s eta 0:00:05\n",
      "     ----------------------- ------------- 178.5/284.1 MB 25.2 MB/s eta 0:00:05\n",
      "     ----------------------- ------------- 179.9/284.1 MB 27.3 MB/s eta 0:00:04\n",
      "     ----------------------- ------------- 181.2/284.1 MB 27.3 MB/s eta 0:00:04\n",
      "     ----------------------- ------------- 182.4/284.1 MB 28.5 MB/s eta 0:00:04\n",
      "     ----------------------- ------------- 183.7/284.1 MB 28.5 MB/s eta 0:00:04\n",
      "     ------------------------ ------------ 185.1/284.1 MB 29.7 MB/s eta 0:00:04\n",
      "     ------------------------ ------------ 186.4/284.1 MB 29.7 MB/s eta 0:00:04\n",
      "     ------------------------ ------------ 187.9/284.1 MB 29.7 MB/s eta 0:00:04\n",
      "     ------------------------ ------------ 189.3/284.1 MB 29.8 MB/s eta 0:00:04\n",
      "     ------------------------ ------------ 190.6/284.1 MB 29.8 MB/s eta 0:00:04\n",
      "     ------------------------ ------------ 192.0/284.1 MB 29.7 MB/s eta 0:00:04\n",
      "     ------------------------- ----------- 193.5/284.1 MB 31.2 MB/s eta 0:00:03\n",
      "     ------------------------- ----------- 194.8/284.1 MB 29.7 MB/s eta 0:00:04\n",
      "     ------------------------- ----------- 196.1/284.1 MB 29.7 MB/s eta 0:00:03\n",
      "     ------------------------- ----------- 197.7/284.1 MB 31.2 MB/s eta 0:00:03\n",
      "     ------------------------- ----------- 199.0/284.1 MB 29.7 MB/s eta 0:00:03\n",
      "     -------------------------- ---------- 200.5/284.1 MB 31.2 MB/s eta 0:00:03\n",
      "     -------------------------- ---------- 201.9/284.1 MB 31.2 MB/s eta 0:00:03\n",
      "     -------------------------- ---------- 203.2/284.1 MB 29.7 MB/s eta 0:00:03\n",
      "     -------------------------- ---------- 204.5/284.1 MB 29.7 MB/s eta 0:00:03\n",
      "     -------------------------- ---------- 205.9/284.1 MB 29.7 MB/s eta 0:00:03\n",
      "     -------------------------- ---------- 206.7/284.1 MB 29.7 MB/s eta 0:00:03\n",
      "     --------------------------- --------- 208.2/284.1 MB 28.4 MB/s eta 0:00:03\n",
      "     --------------------------- --------- 209.4/284.1 MB 28.5 MB/s eta 0:00:03\n",
      "     --------------------------- --------- 210.8/284.1 MB 27.3 MB/s eta 0:00:03\n",
      "     --------------------------- --------- 212.2/284.1 MB 28.4 MB/s eta 0:00:03\n",
      "     --------------------------- --------- 213.6/284.1 MB 28.4 MB/s eta 0:00:03\n",
      "     ---------------------------- -------- 215.1/284.1 MB 29.8 MB/s eta 0:00:03\n",
      "     ---------------------------- -------- 216.4/284.1 MB 31.2 MB/s eta 0:00:03\n",
      "     ---------------------------- -------- 217.8/284.1 MB 29.7 MB/s eta 0:00:03\n",
      "     ---------------------------- -------- 219.0/284.1 MB 29.7 MB/s eta 0:00:03\n",
      "     ---------------------------- -------- 220.5/284.1 MB 29.7 MB/s eta 0:00:03\n",
      "     ---------------------------- -------- 221.8/284.1 MB 29.7 MB/s eta 0:00:03\n",
      "     ----------------------------- ------- 223.2/284.1 MB 29.7 MB/s eta 0:00:03\n",
      "     ----------------------------- ------- 224.6/284.1 MB 29.7 MB/s eta 0:00:03\n",
      "     ----------------------------- ------- 225.9/284.1 MB 29.8 MB/s eta 0:00:02\n",
      "     ----------------------------- ------- 227.3/284.1 MB 29.8 MB/s eta 0:00:02\n",
      "     ----------------------------- ------- 228.6/284.1 MB 28.5 MB/s eta 0:00:02\n",
      "     ----------------------------- ------- 230.1/284.1 MB 29.7 MB/s eta 0:00:02\n",
      "     ------------------------------ ------ 231.5/284.1 MB 29.7 MB/s eta 0:00:02\n",
      "     ------------------------------ ------ 232.8/284.1 MB 29.7 MB/s eta 0:00:02\n",
      "     ------------------------------ ------ 234.3/284.1 MB 29.7 MB/s eta 0:00:02\n",
      "     ------------------------------ ------ 235.7/284.1 MB 29.7 MB/s eta 0:00:02\n",
      "     ------------------------------ ------ 237.0/284.1 MB 31.2 MB/s eta 0:00:02\n",
      "     ------------------------------- ----- 238.3/284.1 MB 29.8 MB/s eta 0:00:02\n",
      "     ------------------------------- ----- 239.7/284.1 MB 29.7 MB/s eta 0:00:02\n",
      "     ------------------------------- ----- 240.8/284.1 MB 29.8 MB/s eta 0:00:02\n",
      "     ------------------------------- ----- 242.0/284.1 MB 28.5 MB/s eta 0:00:02\n",
      "     ------------------------------- ----- 242.0/284.1 MB 28.5 MB/s eta 0:00:02\n",
      "     ------------------------------- ----- 242.8/284.1 MB 24.2 MB/s eta 0:00:02\n",
      "     ------------------------------- ----- 243.9/284.1 MB 23.4 MB/s eta 0:00:02\n",
      "     ------------------------------- ----- 245.4/284.1 MB 24.2 MB/s eta 0:00:02\n",
      "     -------------------------------- ---- 246.6/284.1 MB 23.4 MB/s eta 0:00:02\n",
      "     -------------------------------- ---- 247.9/284.1 MB 23.4 MB/s eta 0:00:02\n",
      "     -------------------------------- ---- 249.5/284.1 MB 24.3 MB/s eta 0:00:02\n",
      "     -------------------------------- ---- 250.8/284.1 MB 24.2 MB/s eta 0:00:02\n",
      "     -------------------------------- ---- 252.3/284.1 MB 29.7 MB/s eta 0:00:02\n",
      "     -------------------------------- ---- 253.4/284.1 MB 28.5 MB/s eta 0:00:02\n",
      "     --------------------------------- --- 254.8/284.1 MB 29.7 MB/s eta 0:00:01\n",
      "     --------------------------------- --- 256.2/284.1 MB 29.7 MB/s eta 0:00:01\n",
      "     --------------------------------- --- 257.5/284.1 MB 29.7 MB/s eta 0:00:01\n",
      "     --------------------------------- --- 258.9/284.1 MB 29.7 MB/s eta 0:00:01\n",
      "     --------------------------------- --- 260.4/284.1 MB 31.2 MB/s eta 0:00:01\n",
      "     ---------------------------------- -- 261.9/284.1 MB 31.2 MB/s eta 0:00:01\n",
      "     ---------------------------------- -- 263.3/284.1 MB 31.1 MB/s eta 0:00:01\n",
      "     ---------------------------------- -- 264.8/284.1 MB 31.2 MB/s eta 0:00:01\n",
      "     ---------------------------------- -- 266.1/284.1 MB 31.2 MB/s eta 0:00:01\n",
      "     ---------------------------------- -- 267.5/284.1 MB 31.2 MB/s eta 0:00:01\n",
      "     ---------------------------------- -- 268.7/284.1 MB 31.2 MB/s eta 0:00:01\n",
      "     ----------------------------------- - 270.0/284.1 MB 29.7 MB/s eta 0:00:01\n",
      "     ----------------------------------- - 271.5/284.1 MB 29.7 MB/s eta 0:00:01\n",
      "     ----------------------------------- - 272.9/284.1 MB 29.7 MB/s eta 0:00:01\n",
      "     ----------------------------------- - 274.2/284.1 MB 29.7 MB/s eta 0:00:01\n",
      "     ----------------------------------- - 275.7/284.1 MB 29.8 MB/s eta 0:00:01\n",
      "     ------------------------------------  277.2/284.1 MB 29.8 MB/s eta 0:00:01\n",
      "     ------------------------------------  278.4/284.1 MB 29.7 MB/s eta 0:00:01\n",
      "     ------------------------------------  278.8/284.1 MB 28.5 MB/s eta 0:00:01\n",
      "     ------------------------------------  279.9/284.1 MB 27.3 MB/s eta 0:00:01\n",
      "     ------------------------------------  281.2/284.1 MB 27.3 MB/s eta 0:00:01\n",
      "     ------------------------------------  282.4/284.1 MB 26.2 MB/s eta 0:00:01\n",
      "     ------------------------------------  283.8/284.1 MB 27.3 MB/s eta 0:00:01\n",
      "     ------------------------------------  284.1/284.1 MB 25.2 MB/s eta 0:00:01\n",
      "     ------------------------------------  284.1/284.1 MB 25.2 MB/s eta 0:00:01\n",
      "     ------------------------------------  284.1/284.1 MB 25.2 MB/s eta 0:00:01\n",
      "     ------------------------------------  284.1/284.1 MB 25.2 MB/s eta 0:00:01\n",
      "     ------------------------------------  284.1/284.1 MB 25.2 MB/s eta 0:00:01\n",
      "     ------------------------------------  284.1/284.1 MB 25.2 MB/s eta 0:00:01\n",
      "     ------------------------------------  284.1/284.1 MB 25.2 MB/s eta 0:00:01\n",
      "     ------------------------------------  284.1/284.1 MB 25.2 MB/s eta 0:00:01\n",
      "     ------------------------------------  284.1/284.1 MB 25.2 MB/s eta 0:00:01\n",
      "     ------------------------------------  284.1/284.1 MB 25.2 MB/s eta 0:00:01\n",
      "     ------------------------------------  284.1/284.1 MB 25.2 MB/s eta 0:00:01\n",
      "     ------------------------------------  284.1/284.1 MB 25.2 MB/s eta 0:00:01\n",
      "     ------------------------------------  284.1/284.1 MB 25.2 MB/s eta 0:00:01\n",
      "     -------------------------------------- 284.1/284.1 MB 8.8 MB/s eta 0:00:00\n",
      "Requirement already satisfied: absl-py>=1.0.0 in c:\\users\\jeremy tan\\appdata\\local\\packages\\pythonsoftwarefoundation.python.3.10_qbz5n2kfra8p0\\localcache\\local-packages\\python310\\site-packages (from tensorflow-intel==2.14.0->tensorflow==2.14.0) (2.2.2)\n",
      "Requirement already satisfied: opt-einsum>=2.3.2 in c:\\users\\jeremy tan\\appdata\\local\\packages\\pythonsoftwarefoundation.python.3.10_qbz5n2kfra8p0\\localcache\\local-packages\\python310\\site-packages (from tensorflow-intel==2.14.0->tensorflow==2.14.0) (3.4.0)\n",
      "Collecting ml-dtypes==0.2.0\n",
      "  Downloading ml_dtypes-0.2.0-cp310-cp310-win_amd64.whl (938 kB)\n",
      "     ---------------------------------------- 0.0/938.6 kB ? eta -:--:--\n",
      "     ------------------------------------- 938.6/938.6 kB 19.8 MB/s eta 0:00:00\n",
      "Requirement already satisfied: gast!=0.5.0,!=0.5.1,!=0.5.2,>=0.2.1 in c:\\users\\jeremy tan\\appdata\\local\\packages\\pythonsoftwarefoundation.python.3.10_qbz5n2kfra8p0\\localcache\\local-packages\\python310\\site-packages (from tensorflow-intel==2.14.0->tensorflow==2.14.0) (0.6.0)\n",
      "Requirement already satisfied: tensorflow-io-gcs-filesystem>=0.23.1 in c:\\users\\jeremy tan\\appdata\\local\\packages\\pythonsoftwarefoundation.python.3.10_qbz5n2kfra8p0\\localcache\\local-packages\\python310\\site-packages (from tensorflow-intel==2.14.0->tensorflow==2.14.0) (0.31.0)\n",
      "Requirement already satisfied: protobuf!=4.21.0,!=4.21.1,!=4.21.2,!=4.21.3,!=4.21.4,!=4.21.5,<5.0.0dev,>=3.20.3 in c:\\users\\jeremy tan\\appdata\\local\\packages\\pythonsoftwarefoundation.python.3.10_qbz5n2kfra8p0\\localcache\\local-packages\\python310\\site-packages (from tensorflow-intel==2.14.0->tensorflow==2.14.0) (4.25.7)\n",
      "Requirement already satisfied: astunparse>=1.6.0 in c:\\users\\jeremy tan\\appdata\\local\\packages\\pythonsoftwarefoundation.python.3.10_qbz5n2kfra8p0\\localcache\\local-packages\\python310\\site-packages (from tensorflow-intel==2.14.0->tensorflow==2.14.0) (1.6.3)\n",
      "Requirement already satisfied: numpy>=1.23.5 in c:\\users\\jeremy tan\\appdata\\local\\packages\\pythonsoftwarefoundation.python.3.10_qbz5n2kfra8p0\\localcache\\local-packages\\python310\\site-packages (from tensorflow-intel==2.14.0->tensorflow==2.14.0) (1.24.3)\n",
      "Requirement already satisfied: typing-extensions>=3.6.6 in c:\\users\\jeremy tan\\appdata\\local\\packages\\pythonsoftwarefoundation.python.3.10_qbz5n2kfra8p0\\localcache\\local-packages\\python310\\site-packages (from tensorflow-intel==2.14.0->tensorflow==2.14.0) (4.13.2)\n",
      "Collecting tensorboard<2.15,>=2.14\n",
      "  Downloading tensorboard-2.14.1-py3-none-any.whl (5.5 MB)\n",
      "     ---------------------------------------- 0.0/5.5 MB ? eta -:--:--\n",
      "     ----- ---------------------------------- 0.7/5.5 MB 42.9 MB/s eta 0:00:01\n",
      "     ---------- ----------------------------- 1.5/5.5 MB 23.6 MB/s eta 0:00:01\n",
      "     ------------- -------------------------- 1.9/5.5 MB 15.2 MB/s eta 0:00:01\n",
      "     --------------------- ------------------ 3.0/5.5 MB 17.3 MB/s eta 0:00:01\n",
      "     ------------------------------- -------- 4.3/5.5 MB 19.5 MB/s eta 0:00:01\n",
      "     -------------------------------------- - 5.3/5.5 MB 20.0 MB/s eta 0:00:01\n",
      "     ---------------------------------------- 5.5/5.5 MB 18.5 MB/s eta 0:00:00\n",
      "Requirement already satisfied: setuptools in c:\\program files\\windowsapps\\pythonsoftwarefoundation.python.3.10_3.10.3056.0_x64__qbz5n2kfra8p0\\lib\\site-packages (from tensorflow-intel==2.14.0->tensorflow==2.14.0) (65.5.0)\n",
      "Collecting wrapt<1.15,>=1.11.0\n",
      "  Downloading wrapt-1.14.1-cp310-cp310-win_amd64.whl (35 kB)\n",
      "Requirement already satisfied: google-pasta>=0.1.1 in c:\\users\\jeremy tan\\appdata\\local\\packages\\pythonsoftwarefoundation.python.3.10_qbz5n2kfra8p0\\localcache\\local-packages\\python310\\site-packages (from tensorflow-intel==2.14.0->tensorflow==2.14.0) (0.2.0)\n",
      "Requirement already satisfied: h5py>=2.9.0 in c:\\users\\jeremy tan\\appdata\\local\\packages\\pythonsoftwarefoundation.python.3.10_qbz5n2kfra8p0\\localcache\\local-packages\\python310\\site-packages (from tensorflow-intel==2.14.0->tensorflow==2.14.0) (3.13.0)\n",
      "Requirement already satisfied: six>=1.12.0 in c:\\users\\jeremy tan\\appdata\\local\\packages\\pythonsoftwarefoundation.python.3.10_qbz5n2kfra8p0\\localcache\\local-packages\\python310\\site-packages (from tensorflow-intel==2.14.0->tensorflow==2.14.0) (1.17.0)\n",
      "Collecting keras<2.15,>=2.14.0\n",
      "  Downloading keras-2.14.0-py3-none-any.whl (1.7 MB)\n",
      "     ---------------------------------------- 0.0/1.7 MB ? eta -:--:--\n",
      "     ------------------------------ --------- 1.3/1.7 MB 27.9 MB/s eta 0:00:01\n",
      "     ---------------------------------------- 1.7/1.7 MB 27.4 MB/s eta 0:00:00\n",
      "Requirement already satisfied: packaging in c:\\users\\jeremy tan\\appdata\\local\\packages\\pythonsoftwarefoundation.python.3.10_qbz5n2kfra8p0\\localcache\\local-packages\\python310\\site-packages (from tensorflow-intel==2.14.0->tensorflow==2.14.0) (24.2)\n",
      "Requirement already satisfied: flatbuffers>=23.5.26 in c:\\users\\jeremy tan\\appdata\\local\\packages\\pythonsoftwarefoundation.python.3.10_qbz5n2kfra8p0\\localcache\\local-packages\\python310\\site-packages (from tensorflow-intel==2.14.0->tensorflow==2.14.0) (25.2.10)\n",
      "Requirement already satisfied: termcolor>=1.1.0 in c:\\users\\jeremy tan\\appdata\\local\\packages\\pythonsoftwarefoundation.python.3.10_qbz5n2kfra8p0\\localcache\\local-packages\\python310\\site-packages (from tensorflow-intel==2.14.0->tensorflow==2.14.0) (3.1.0)\n",
      "Requirement already satisfied: libclang>=13.0.0 in c:\\users\\jeremy tan\\appdata\\local\\packages\\pythonsoftwarefoundation.python.3.10_qbz5n2kfra8p0\\localcache\\local-packages\\python310\\site-packages (from tensorflow-intel==2.14.0->tensorflow==2.14.0) (18.1.1)\n",
      "Collecting tensorflow-estimator<2.15,>=2.14.0\n",
      "  Downloading tensorflow_estimator-2.14.0-py2.py3-none-any.whl (440 kB)\n",
      "     ---------------------------------------- 0.0/440.7 kB ? eta -:--:--\n",
      "     ------------------------------------- 440.7/440.7 kB 13.9 MB/s eta 0:00:00\n",
      "Requirement already satisfied: grpcio<2.0,>=1.24.3 in c:\\users\\jeremy tan\\appdata\\local\\packages\\pythonsoftwarefoundation.python.3.10_qbz5n2kfra8p0\\localcache\\local-packages\\python310\\site-packages (from tensorflow-intel==2.14.0->tensorflow==2.14.0) (1.71.0)\n",
      "Requirement already satisfied: wheel<1.0,>=0.23.0 in c:\\users\\jeremy tan\\appdata\\local\\packages\\pythonsoftwarefoundation.python.3.10_qbz5n2kfra8p0\\localcache\\local-packages\\python310\\site-packages (from astunparse>=1.6.0->tensorflow-intel==2.14.0->tensorflow==2.14.0) (0.45.1)\n",
      "Requirement already satisfied: markdown>=2.6.8 in c:\\users\\jeremy tan\\appdata\\local\\packages\\pythonsoftwarefoundation.python.3.10_qbz5n2kfra8p0\\localcache\\local-packages\\python310\\site-packages (from tensorboard<2.15,>=2.14->tensorflow-intel==2.14.0->tensorflow==2.14.0) (3.8)\n",
      "Requirement already satisfied: tensorboard-data-server<0.8.0,>=0.7.0 in c:\\users\\jeremy tan\\appdata\\local\\packages\\pythonsoftwarefoundation.python.3.10_qbz5n2kfra8p0\\localcache\\local-packages\\python310\\site-packages (from tensorboard<2.15,>=2.14->tensorflow-intel==2.14.0->tensorflow==2.14.0) (0.7.2)\n",
      "Collecting google-auth<3,>=1.6.3\n",
      "  Downloading google_auth-2.39.0-py2.py3-none-any.whl (212 kB)\n",
      "     ---------------------------------------- 0.0/212.3 kB ? eta -:--:--\n",
      "     ------------------------------------- 212.3/212.3 kB 12.6 MB/s eta 0:00:00\n",
      "Requirement already satisfied: werkzeug>=1.0.1 in c:\\users\\jeremy tan\\appdata\\local\\packages\\pythonsoftwarefoundation.python.3.10_qbz5n2kfra8p0\\localcache\\local-packages\\python310\\site-packages (from tensorboard<2.15,>=2.14->tensorflow-intel==2.14.0->tensorflow==2.14.0) (3.1.3)\n",
      "Collecting google-auth-oauthlib<1.1,>=0.5\n",
      "  Downloading google_auth_oauthlib-1.0.0-py2.py3-none-any.whl (18 kB)\n",
      "Requirement already satisfied: requests<3,>=2.21.0 in c:\\users\\jeremy tan\\appdata\\local\\packages\\pythonsoftwarefoundation.python.3.10_qbz5n2kfra8p0\\localcache\\local-packages\\python310\\site-packages (from tensorboard<2.15,>=2.14->tensorflow-intel==2.14.0->tensorflow==2.14.0) (2.32.3)\n",
      "Collecting pyasn1-modules>=0.2.1\n",
      "  Downloading pyasn1_modules-0.4.2-py3-none-any.whl (181 kB)\n",
      "     ---------------------------------------- 0.0/181.3 kB ? eta -:--:--\n",
      "     ---------------------------------------- 181.3/181.3 kB ? eta 0:00:00\n",
      "Collecting cachetools<6.0,>=2.0.0\n",
      "  Downloading cachetools-5.5.2-py3-none-any.whl (10 kB)\n",
      "Collecting rsa<5,>=3.1.4\n",
      "  Downloading rsa-4.9.1-py3-none-any.whl (34 kB)\n",
      "Collecting requests-oauthlib>=0.7.0\n",
      "  Downloading requests_oauthlib-2.0.0-py2.py3-none-any.whl (24 kB)\n",
      "Requirement already satisfied: urllib3<3,>=1.21.1 in c:\\users\\jeremy tan\\appdata\\local\\packages\\pythonsoftwarefoundation.python.3.10_qbz5n2kfra8p0\\localcache\\local-packages\\python310\\site-packages (from requests<3,>=2.21.0->tensorboard<2.15,>=2.14->tensorflow-intel==2.14.0->tensorflow==2.14.0) (2.4.0)\n",
      "Requirement already satisfied: charset-normalizer<4,>=2 in c:\\users\\jeremy tan\\appdata\\local\\packages\\pythonsoftwarefoundation.python.3.10_qbz5n2kfra8p0\\localcache\\local-packages\\python310\\site-packages (from requests<3,>=2.21.0->tensorboard<2.15,>=2.14->tensorflow-intel==2.14.0->tensorflow==2.14.0) (3.4.1)\n",
      "Requirement already satisfied: idna<4,>=2.5 in c:\\users\\jeremy tan\\appdata\\local\\packages\\pythonsoftwarefoundation.python.3.10_qbz5n2kfra8p0\\localcache\\local-packages\\python310\\site-packages (from requests<3,>=2.21.0->tensorboard<2.15,>=2.14->tensorflow-intel==2.14.0->tensorflow==2.14.0) (3.10)\n",
      "Requirement already satisfied: certifi>=2017.4.17 in c:\\users\\jeremy tan\\appdata\\local\\packages\\pythonsoftwarefoundation.python.3.10_qbz5n2kfra8p0\\localcache\\local-packages\\python310\\site-packages (from requests<3,>=2.21.0->tensorboard<2.15,>=2.14->tensorflow-intel==2.14.0->tensorflow==2.14.0) (2025.4.26)\n",
      "Requirement already satisfied: MarkupSafe>=2.1.1 in c:\\users\\jeremy tan\\appdata\\local\\packages\\pythonsoftwarefoundation.python.3.10_qbz5n2kfra8p0\\localcache\\local-packages\\python310\\site-packages (from werkzeug>=1.0.1->tensorboard<2.15,>=2.14->tensorflow-intel==2.14.0->tensorflow==2.14.0) (3.0.2)\n",
      "Collecting pyasn1<0.7.0,>=0.6.1\n",
      "  Downloading pyasn1-0.6.1-py3-none-any.whl (83 kB)\n",
      "     ---------------------------------------- 0.0/83.1 kB ? eta -:--:--\n",
      "     ---------------------------------------- 83.1/83.1 kB ? eta 0:00:00\n",
      "Collecting oauthlib>=3.0.0\n",
      "  Downloading oauthlib-3.2.2-py3-none-any.whl (151 kB)\n",
      "     ---------------------------------------- 0.0/151.7 kB ? eta -:--:--\n",
      "     ---------------------------------------- 151.7/151.7 kB ? eta 0:00:00\n",
      "Installing collected packages: wrapt, tensorflow-estimator, pyasn1, oauthlib, ml-dtypes, keras, cachetools, rsa, requests-oauthlib, pyasn1-modules, google-auth, google-auth-oauthlib, tensorboard, tensorflow-intel, tensorflow\n",
      "  Attempting uninstall: wrapt\n",
      "    Found existing installation: wrapt 1.17.2\n",
      "    Uninstalling wrapt-1.17.2:\n",
      "      Successfully uninstalled wrapt-1.17.2\n",
      "  Attempting uninstall: ml-dtypes\n",
      "    Found existing installation: ml_dtypes 0.5.1\n",
      "    Uninstalling ml_dtypes-0.5.1:\n",
      "      Successfully uninstalled ml_dtypes-0.5.1\n",
      "  Attempting uninstall: keras\n",
      "    Found existing installation: keras 3.9.2\n",
      "    Uninstalling keras-3.9.2:\n",
      "      Successfully uninstalled keras-3.9.2\n",
      "  Attempting uninstall: tensorboard\n",
      "    Found existing installation: tensorboard 2.19.0\n",
      "    Uninstalling tensorboard-2.19.0:\n",
      "      Successfully uninstalled tensorboard-2.19.0\n",
      "Successfully installed cachetools-5.5.2 google-auth-2.39.0 google-auth-oauthlib-1.0.0 keras-2.14.0 ml-dtypes-0.2.0 oauthlib-3.2.2 pyasn1-0.6.1 pyasn1-modules-0.4.2 requests-oauthlib-2.0.0 rsa-4.9.1 tensorboard-2.14.1 tensorflow-2.14.0 tensorflow-estimator-2.14.0 tensorflow-intel-2.14.0 wrapt-1.14.1\n"
     ]
    },
    {
     "name": "stderr",
     "output_type": "stream",
     "text": [
      "WARNING: Ignoring invalid distribution -rotobuf (c:\\users\\jeremy tan\\appdata\\local\\packages\\pythonsoftwarefoundation.python.3.10_qbz5n2kfra8p0\\localcache\\local-packages\\python310\\site-packages)\n",
      "WARNING: Ignoring invalid distribution -rotobuf (c:\\users\\jeremy tan\\appdata\\local\\packages\\pythonsoftwarefoundation.python.3.10_qbz5n2kfra8p0\\localcache\\local-packages\\python310\\site-packages)\n",
      "WARNING: Ignoring invalid distribution -rotobuf (c:\\users\\jeremy tan\\appdata\\local\\packages\\pythonsoftwarefoundation.python.3.10_qbz5n2kfra8p0\\localcache\\local-packages\\python310\\site-packages)\n",
      "    WARNING: Ignoring invalid distribution -rotobuf (c:\\users\\jeremy tan\\appdata\\local\\packages\\pythonsoftwarefoundation.python.3.10_qbz5n2kfra8p0\\localcache\\local-packages\\python310\\site-packages)\n",
      "    WARNING: Ignoring invalid distribution -rotobuf (c:\\users\\jeremy tan\\appdata\\local\\packages\\pythonsoftwarefoundation.python.3.10_qbz5n2kfra8p0\\localcache\\local-packages\\python310\\site-packages)\n",
      "    WARNING: Ignoring invalid distribution -rotobuf (c:\\users\\jeremy tan\\appdata\\local\\packages\\pythonsoftwarefoundation.python.3.10_qbz5n2kfra8p0\\localcache\\local-packages\\python310\\site-packages)\n",
      "    WARNING: Ignoring invalid distribution -rotobuf (c:\\users\\jeremy tan\\appdata\\local\\packages\\pythonsoftwarefoundation.python.3.10_qbz5n2kfra8p0\\localcache\\local-packages\\python310\\site-packages)\n",
      "WARNING: Ignoring invalid distribution -rotobuf (c:\\users\\jeremy tan\\appdata\\local\\packages\\pythonsoftwarefoundation.python.3.10_qbz5n2kfra8p0\\localcache\\local-packages\\python310\\site-packages)\n",
      "WARNING: Ignoring invalid distribution -rotobuf (c:\\users\\jeremy tan\\appdata\\local\\packages\\pythonsoftwarefoundation.python.3.10_qbz5n2kfra8p0\\localcache\\local-packages\\python310\\site-packages)\n",
      "WARNING: Ignoring invalid distribution -rotobuf (c:\\users\\jeremy tan\\appdata\\local\\packages\\pythonsoftwarefoundation.python.3.10_qbz5n2kfra8p0\\localcache\\local-packages\\python310\\site-packages)\n",
      "WARNING: Ignoring invalid distribution -rotobuf (c:\\users\\jeremy tan\\appdata\\local\\packages\\pythonsoftwarefoundation.python.3.10_qbz5n2kfra8p0\\localcache\\local-packages\\python310\\site-packages)\n",
      "WARNING: Ignoring invalid distribution -rotobuf (c:\\users\\jeremy tan\\appdata\\local\\packages\\pythonsoftwarefoundation.python.3.10_qbz5n2kfra8p0\\localcache\\local-packages\\python310\\site-packages)\n",
      "WARNING: Ignoring invalid distribution -rotobuf (c:\\users\\jeremy tan\\appdata\\local\\packages\\pythonsoftwarefoundation.python.3.10_qbz5n2kfra8p0\\localcache\\local-packages\\python310\\site-packages)\n",
      "WARNING: Ignoring invalid distribution -rotobuf (c:\\users\\jeremy tan\\appdata\\local\\packages\\pythonsoftwarefoundation.python.3.10_qbz5n2kfra8p0\\localcache\\local-packages\\python310\\site-packages)\n",
      "WARNING: Ignoring invalid distribution -rotobuf (c:\\users\\jeremy tan\\appdata\\local\\packages\\pythonsoftwarefoundation.python.3.10_qbz5n2kfra8p0\\localcache\\local-packages\\python310\\site-packages)\n",
      "WARNING: Ignoring invalid distribution -rotobuf (c:\\users\\jeremy tan\\appdata\\local\\packages\\pythonsoftwarefoundation.python.3.10_qbz5n2kfra8p0\\localcache\\local-packages\\python310\\site-packages)\n",
      "WARNING: Ignoring invalid distribution -rotobuf (c:\\users\\jeremy tan\\appdata\\local\\packages\\pythonsoftwarefoundation.python.3.10_qbz5n2kfra8p0\\localcache\\local-packages\\python310\\site-packages)\n",
      "WARNING: Ignoring invalid distribution -rotobuf (c:\\users\\jeremy tan\\appdata\\local\\packages\\pythonsoftwarefoundation.python.3.10_qbz5n2kfra8p0\\localcache\\local-packages\\python310\\site-packages)\n",
      "WARNING: Ignoring invalid distribution -rotobuf (c:\\users\\jeremy tan\\appdata\\local\\packages\\pythonsoftwarefoundation.python.3.10_qbz5n2kfra8p0\\localcache\\local-packages\\python310\\site-packages)\n",
      "WARNING: Ignoring invalid distribution -rotobuf (c:\\users\\jeremy tan\\appdata\\local\\packages\\pythonsoftwarefoundation.python.3.10_qbz5n2kfra8p0\\localcache\\local-packages\\python310\\site-packages)\n",
      "WARNING: Ignoring invalid distribution -rotobuf (c:\\users\\jeremy tan\\appdata\\local\\packages\\pythonsoftwarefoundation.python.3.10_qbz5n2kfra8p0\\localcache\\local-packages\\python310\\site-packages)\n",
      "WARNING: Ignoring invalid distribution -rotobuf (c:\\users\\jeremy tan\\appdata\\local\\packages\\pythonsoftwarefoundation.python.3.10_qbz5n2kfra8p0\\localcache\\local-packages\\python310\\site-packages)\n",
      "WARNING: Ignoring invalid distribution -rotobuf (c:\\users\\jeremy tan\\appdata\\local\\packages\\pythonsoftwarefoundation.python.3.10_qbz5n2kfra8p0\\localcache\\local-packages\\python310\\site-packages)\n",
      "WARNING: Ignoring invalid distribution -rotobuf (c:\\users\\jeremy tan\\appdata\\local\\packages\\pythonsoftwarefoundation.python.3.10_qbz5n2kfra8p0\\localcache\\local-packages\\python310\\site-packages)\n",
      "WARNING: Ignoring invalid distribution -rotobuf (c:\\users\\jeremy tan\\appdata\\local\\packages\\pythonsoftwarefoundation.python.3.10_qbz5n2kfra8p0\\localcache\\local-packages\\python310\\site-packages)\n",
      "\n",
      "[notice] A new release of pip is available: 23.0.1 -> 25.1\n",
      "[notice] To update, run: C:\\Users\\Jeremy Tan\\AppData\\Local\\Microsoft\\WindowsApps\\PythonSoftwareFoundation.Python.3.10_qbz5n2kfra8p0\\python.exe -m pip install --upgrade pip\n"
     ]
    },
    {
     "name": "stdout",
     "output_type": "stream",
     "text": [
      "Downloading data from https://storage.googleapis.com/tensorflow/tf-keras-datasets/imdb.npz\n",
      "17464789/17464789 [==============================] - 1s 0us/step\n"
     ]
    }
   ],
   "source": [
    "!pip install keras numpy==1.24.3\n",
    "!pip uninstall tensorflow -y\n",
    "!pip install tensorflow==2.14.0\n",
    "# import keras\n",
    "# from keras.datasets import imdb\n",
    "from tensorflow import keras\n",
    "from tensorflow.keras.datasets import imdb\n",
    "\n",
    "(Xtrain,ytrain),(Xtest,ytest)=imdb.load_data(maxlen=100,num_words=10000,index_from=0)"
   ]
  },
  {
   "cell_type": "markdown",
   "metadata": {
    "id": "LVCMyEN9iBfJ"
   },
   "source": [
    "This dataset also comes with a dictionary for tokenization. The keys for this dictionary are the words in the vocabulary, and the values are the numbers assigned to each word (just like the `tokens` dictionary attribute of your `Tokenizer` class from the last assignment). We import this dictionary as `index`, and look at the first 10 key/value pairs:"
   ]
  },
  {
   "cell_type": "code",
   "execution_count": 3,
   "metadata": {
    "id": "wnPbw6xgNbEo"
   },
   "outputs": [
    {
     "name": "stdout",
     "output_type": "stream",
     "text": [
      "Downloading data from https://storage.googleapis.com/tensorflow/tf-keras-datasets/imdb_word_index.json\n",
      "1641221/1641221 [==============================] - 0s 0us/step\n"
     ]
    },
    {
     "data": {
      "text/plain": [
       "[('fawn', 34701),\n",
       " ('tsukino', 52006),\n",
       " ('nunnery', 52007),\n",
       " ('sonja', 16816),\n",
       " ('vani', 63951),\n",
       " ('woods', 1408),\n",
       " ('spiders', 16115),\n",
       " ('hanging', 2345),\n",
       " ('woody', 2289),\n",
       " ('trawling', 52008)]"
      ]
     },
     "execution_count": 3,
     "metadata": {},
     "output_type": "execute_result"
    }
   ],
   "source": [
    "index=imdb.get_word_index()\n",
    "list(index.items())[:10]"
   ]
  },
  {
   "cell_type": "markdown",
   "metadata": {
    "id": "JveUPp1hlRSp"
   },
   "source": [
    "Note that Xtrain[0] is not the words of the first movie review of the dataset, but rather the indices of those words. To see the review itself, we have to convert from indices back to words. To this end, we'll build a dictionary word_from_index whose keys are indices and values are corresponding words."
   ]
  },
  {
   "cell_type": "code",
   "execution_count": 4,
   "metadata": {
    "id": "caQIPzAQlqxs"
   },
   "outputs": [],
   "source": [
    "words_from_index={}\n",
    "for word in index:\n",
    "  words_from_index[index[word]]=word"
   ]
  },
  {
   "cell_type": "markdown",
   "metadata": {
    "id": "dp3r_0nUnxDa"
   },
   "source": [
    "We can now look at review 1:"
   ]
  },
  {
   "cell_type": "code",
   "execution_count": 5,
   "metadata": {
    "id": "zc2QoKSoOsqc"
   },
   "outputs": [
    {
     "data": {
      "text/plain": [
       "\"the when i rented this movie i had very low expectations but when i saw it i realized that the movie was less a lot less than what i expected the actors were bad the doctor's wife was one of the worst the story was so stupid it could work for a disney movie except for the murders but this one is not a comedy it is a laughable masterpiece of stupidity the title is well chosen except for one thing they could add stupid movie after dead husbands i give it 0 and a half out of 5 \""
      ]
     },
     "execution_count": 5,
     "metadata": {},
     "output_type": "execute_result"
    }
   ],
   "source": [
    "review1=''\n",
    "for n in Xtrain[1]:\n",
    "  review1+=words_from_index[n]+' '\n",
    "\n",
    "review1"
   ]
  },
  {
   "cell_type": "markdown",
   "metadata": {
    "id": "ob0wuGBKoXCT"
   },
   "source": [
    "Right now Xtrain is a 1-dimensional numpy array of python lists. To convert it to a 2-dimensional numpy array, we'll need every every element of Xtrain to be a list of the same length. Write a function that takes a list-of-lists, and adds an appropriate number of 0's to each if their length is less than 100. (This is called *padding*.)"
   ]
  },
  {
   "cell_type": "code",
   "execution_count": 8,
   "metadata": {
    "id": "u6elT9Paqy8r"
   },
   "outputs": [],
   "source": [
    "def pad(X):\n",
    "  '''X is a list of lists of all different lengths\n",
    "  function should return a list of lists of length 100 by padding with 0's'''\n",
    "  return [x + [0] * (100 - len(x)) if len(x) < 100 else x[:100] for x in X]\n"
   ]
  },
  {
   "cell_type": "markdown",
   "metadata": {
    "id": "ITTlcuH0vLM_"
   },
   "source": [
    "We'll now use this function to convert Xtrain and Xtest to 2D numpy arrays. (At the same time we convert ytrain and ytest to numpy arrays as well.)"
   ]
  },
  {
   "cell_type": "code",
   "execution_count": 9,
   "metadata": {
    "id": "6bf-zDt4RX-F"
   },
   "outputs": [],
   "source": [
    "Xtrain=np.array([np.array(l) for l in pad(Xtrain)], dtype=np.int64)\n",
    "Xtest=np.array([np.array(l) for l in pad(Xtest)], dtype=np.int64)"
   ]
  },
  {
   "cell_type": "markdown",
   "metadata": {
    "id": "V008DKjkzBgF"
   },
   "source": [
    "Finally, we convert all datasets to tensors and move them to the appropriate `device`."
   ]
  },
  {
   "cell_type": "code",
   "execution_count": 10,
   "metadata": {
    "id": "AVC61B_3eym5"
   },
   "outputs": [],
   "source": [
    "X_train = torch.from_numpy(Xtrain).to(device)\n",
    "y_train = torch.from_numpy(ytrain).to(device)\n",
    "X_test  = torch.from_numpy(Xtest).to(device)\n",
    "y_test  = torch.from_numpy(ytest).to(device)"
   ]
  },
  {
   "cell_type": "markdown",
   "metadata": {
    "id": "RVtEowCvvzUS"
   },
   "source": [
    "In this homework we introduce the Embedding layer, which has the same effect as a one-hot encoding followed by a dense layer. We also use a GRU layer in place of a RNN (feel free to try an RNN or an LSTM instead)."
   ]
  },
  {
   "cell_type": "markdown",
   "metadata": {
    "id": "cHGp06EmwVj_"
   },
   "source": [
    "Your model will consist of a Sequential Neural network with an Embedding layer and a GRU layer. For the embedding layer, the input_dim should be the size of your vocabulary, and the output_dim should be about 128 (you can play with that number). use 64 for the hidden dimension of the GRU, and don't forget to set `batch_first=True`.\n",
    "\n",
    "Follow this sequential model with a separate, fully-connected linear layer with an appropriate output size for this task."
   ]
  },
  {
   "cell_type": "code",
   "execution_count": 11,
   "metadata": {
    "id": "IEfbJTHsfme3"
   },
   "outputs": [],
   "source": [
    "model = nn.Sequential(\n",
    "    nn.Embedding(num_embeddings=10000  , embedding_dim=128),\n",
    "    nn.GRU(input_size=128, hidden_size=64, batch_first=True)\n",
    ").to(device)\n",
    "\n",
    "fc = nn.Linear(64, 1).to(device)\n"
   ]
  },
  {
   "cell_type": "markdown",
   "metadata": {
    "id": "X3h9L__T0ihK"
   },
   "source": [
    "Define an optimizer that will simultaneously adjust the parameters of both `model` and `fc`."
   ]
  },
  {
   "cell_type": "code",
   "execution_count": 12,
   "metadata": {
    "id": "V3FrAVd8PAVe"
   },
   "outputs": [],
   "source": [
    "opt=Adam(list(model.parameters()) + list(fc.parameters()))\n"
   ]
  },
  {
   "cell_type": "markdown",
   "metadata": {
    "id": "pc7VTyIv0tPK"
   },
   "source": [
    "Define a loss function:"
   ]
  },
  {
   "cell_type": "code",
   "execution_count": 13,
   "metadata": {
    "id": "3Eolc5AthsxB"
   },
   "outputs": [],
   "source": [
    "criterion = nn.BCEWithLogitsLoss()"
   ]
  },
  {
   "cell_type": "markdown",
   "metadata": {
    "id": "Z-2k3ozp0vbq"
   },
   "source": [
    "Write your training loop! Use 100 epochs, with batches of size 32. Report losses as you train."
   ]
  },
  {
   "cell_type": "code",
   "execution_count": 14,
   "metadata": {
    "id": "r17asLlZQzkl"
   },
   "outputs": [
    {
     "name": "stdout",
     "output_type": "stream",
     "text": [
      "Epoch 1, Loss: 0.6981\n",
      "Epoch 2, Loss: 0.6877\n",
      "Epoch 3, Loss: 0.6227\n",
      "Epoch 4, Loss: 0.4404\n",
      "Epoch 5, Loss: 0.2755\n",
      "Epoch 6, Loss: 0.1876\n",
      "Epoch 7, Loss: 0.1325\n",
      "Epoch 8, Loss: 0.0956\n",
      "Epoch 9, Loss: 0.0649\n",
      "Epoch 10, Loss: 0.0478\n",
      "Epoch 11, Loss: 0.0411\n",
      "Epoch 12, Loss: 0.0303\n",
      "Epoch 13, Loss: 0.0342\n",
      "Epoch 14, Loss: 0.0340\n",
      "Epoch 15, Loss: 0.0275\n",
      "Epoch 16, Loss: 0.0182\n",
      "Epoch 17, Loss: 0.0160\n",
      "Epoch 18, Loss: 0.0090\n",
      "Epoch 19, Loss: 0.0026\n",
      "Epoch 20, Loss: 0.0019\n",
      "Epoch 21, Loss: 0.0009\n",
      "Epoch 22, Loss: 0.0006\n",
      "Epoch 23, Loss: 0.0005\n",
      "Epoch 24, Loss: 0.0004\n",
      "Epoch 25, Loss: 0.0004\n",
      "Epoch 26, Loss: 0.0003\n",
      "Epoch 27, Loss: 0.0003\n",
      "Epoch 28, Loss: 0.0003\n",
      "Epoch 29, Loss: 0.0002\n",
      "Epoch 30, Loss: 0.0002\n",
      "Epoch 31, Loss: 0.0002\n",
      "Epoch 32, Loss: 0.0002\n",
      "Epoch 33, Loss: 0.0002\n",
      "Epoch 34, Loss: 0.0002\n",
      "Epoch 35, Loss: 0.0001\n",
      "Epoch 36, Loss: 0.0001\n",
      "Epoch 37, Loss: 0.0001\n",
      "Epoch 38, Loss: 0.0001\n",
      "Epoch 39, Loss: 0.0001\n",
      "Epoch 40, Loss: 0.0001\n",
      "Epoch 41, Loss: 0.0001\n",
      "Epoch 42, Loss: 0.0001\n",
      "Epoch 43, Loss: 0.0001\n",
      "Epoch 44, Loss: 0.0001\n",
      "Epoch 45, Loss: 0.0001\n",
      "Epoch 46, Loss: 0.0001\n",
      "Epoch 47, Loss: 0.0001\n",
      "Epoch 48, Loss: 0.0001\n",
      "Epoch 49, Loss: 0.0001\n",
      "Epoch 50, Loss: 0.0001\n",
      "Epoch 51, Loss: 0.0001\n",
      "Epoch 52, Loss: 0.0001\n",
      "Epoch 53, Loss: 0.0000\n",
      "Epoch 54, Loss: 0.0000\n",
      "Epoch 55, Loss: 0.0000\n",
      "Epoch 56, Loss: 0.0000\n",
      "Epoch 57, Loss: 0.0000\n",
      "Epoch 58, Loss: 0.0000\n",
      "Epoch 59, Loss: 0.0000\n",
      "Epoch 60, Loss: 0.0000\n",
      "Epoch 61, Loss: 0.0000\n",
      "Epoch 62, Loss: 0.0000\n",
      "Epoch 63, Loss: 0.0000\n",
      "Epoch 64, Loss: 0.0000\n",
      "Epoch 65, Loss: 0.0000\n",
      "Epoch 66, Loss: 0.0000\n",
      "Epoch 67, Loss: 0.0000\n",
      "Epoch 68, Loss: 0.0000\n",
      "Epoch 69, Loss: 0.0000\n",
      "Epoch 70, Loss: 0.0000\n",
      "Epoch 71, Loss: 0.0000\n",
      "Epoch 72, Loss: 0.0000\n",
      "Epoch 73, Loss: 0.0000\n",
      "Epoch 74, Loss: 0.0000\n",
      "Epoch 75, Loss: 0.0000\n",
      "Epoch 76, Loss: 0.0000\n",
      "Epoch 77, Loss: 0.0000\n",
      "Epoch 78, Loss: 0.0000\n",
      "Epoch 79, Loss: 0.0000\n",
      "Epoch 80, Loss: 0.0000\n",
      "Epoch 81, Loss: 0.0000\n",
      "Epoch 82, Loss: 0.0000\n",
      "Epoch 83, Loss: 0.0000\n",
      "Epoch 84, Loss: 0.0000\n",
      "Epoch 85, Loss: 0.0000\n",
      "Epoch 86, Loss: 0.0000\n",
      "Epoch 87, Loss: 0.0000\n",
      "Epoch 88, Loss: 0.0000\n",
      "Epoch 89, Loss: 0.0000\n",
      "Epoch 90, Loss: 0.0000\n",
      "Epoch 91, Loss: 0.0000\n",
      "Epoch 92, Loss: 0.0000\n",
      "Epoch 93, Loss: 0.0000\n",
      "Epoch 94, Loss: 0.0000\n",
      "Epoch 95, Loss: 0.0000\n",
      "Epoch 96, Loss: 0.0000\n",
      "Epoch 97, Loss: 0.0000\n",
      "Epoch 98, Loss: 0.0000\n",
      "Epoch 99, Loss: 0.0000\n",
      "Epoch 100, Loss: 0.0000\n"
     ]
    }
   ],
   "source": [
    "epochs = 100\n",
    "batch_size = 32\n",
    "num_batches = len(X_train) // batch_size\n",
    "\n",
    "for epoch in range(epochs):\n",
    "    model.train()\n",
    "    total_loss = 0\n",
    "    for i in range(0, len(X_train), batch_size):\n",
    "        xb = X_train[i:i+batch_size]\n",
    "        yb = y_train[i:i+batch_size].float().unsqueeze(1)\n",
    "\n",
    "        opt.zero_grad()\n",
    "        out, _ = model(xb)\n",
    "        final_hidden_state = out[:, -1, :]  # get last GRU output\n",
    "        logits = fc(final_hidden_state)\n",
    "\n",
    "        loss = criterion(logits, yb)\n",
    "        loss.backward()\n",
    "        opt.step()\n",
    "\n",
    "        total_loss += loss.item()\n",
    "\n",
    "    print(f\"Epoch {epoch+1}, Loss: {total_loss/num_batches:.4f}\")"
   ]
  },
  {
   "cell_type": "markdown",
   "metadata": {
    "id": "wAW7GeEbwrQS"
   },
   "source": [
    "Evaluate the accuracy of your model on Xtest and ytest. (It should be around 80%.)"
   ]
  },
  {
   "cell_type": "code",
   "execution_count": 15,
   "metadata": {
    "id": "VVdEkIshjxrq"
   },
   "outputs": [
    {
     "data": {
      "text/plain": [
       "0.8015524744987488"
      ]
     },
     "execution_count": 15,
     "metadata": {},
     "output_type": "execute_result"
    }
   ],
   "source": [
    "# model.eval()\n",
    "# accuracy=#YOUR CODE HERE\n",
    "model.eval()\n",
    "with torch.no_grad():\n",
    "    out, _ = model(X_test)\n",
    "    final_hidden = out[:, -1, :]\n",
    "    logits = fc(final_hidden)\n",
    "    preds = (torch.sigmoid(logits) > 0.5).squeeze()\n",
    "    accuracy = (preds == y_test).float().mean().item()\n",
    "accuracy"
   ]
  },
  {
   "cell_type": "markdown",
   "metadata": {
    "id": "t3SmvNlz1AiE"
   },
   "source": [
    "Take a screen shot of this accuracy and upload to Gradescope!"
   ]
  }
 ],
 "metadata": {
  "accelerator": "GPU",
  "colab": {
   "authorship_tag": "ABX9TyPTKbRgTdBjKX2oppWIZepO",
   "gpuType": "T4",
   "provenance": []
  },
  "kernelspec": {
   "display_name": "Python 3",
   "name": "python3"
  },
  "language_info": {
   "codemirror_mode": {
    "name": "ipython",
    "version": 3
   },
   "file_extension": ".py",
   "mimetype": "text/x-python",
   "name": "python",
   "nbconvert_exporter": "python",
   "pygments_lexer": "ipython3",
   "version": "3.10.11"
  }
 },
 "nbformat": 4,
 "nbformat_minor": 0
}
