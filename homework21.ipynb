{
 "cells": [
  {
   "cell_type": "markdown",
   "metadata": {
    "id": "aGhBELjhF4PM"
   },
   "source": [
    "**Homework 21**"
   ]
  },
  {
   "cell_type": "markdown",
   "metadata": {
    "id": "FL1p_4sFWAmy"
   },
   "source": [
    "In this assignment you will create a Convolutional Neural Network to do facial recognition. We begin by importing the dataset of face photos from the previous assignment."
   ]
  },
  {
   "cell_type": "code",
   "execution_count": 1,
   "metadata": {
    "id": "S-AVC0Qq4uJb"
   },
   "outputs": [],
   "source": [
    "import numpy as np\n",
    "import matplotlib.pyplot as plt\n",
    "from sklearn.model_selection import train_test_split\n",
    "\n",
    "\n",
    "from sklearn.datasets import fetch_lfw_people\n",
    "lfw_people = fetch_lfw_people(min_faces_per_person=70, resize=0.4)\n",
    "faces=lfw_people.images\n",
    "names=lfw_people.target_names\n",
    "target=lfw_people.target"
   ]
  },
  {
   "cell_type": "markdown",
   "metadata": {
    "id": "xzw58xkavdsA"
   },
   "source": [
    "We start with an 80/20 train/test split:"
   ]
  },
  {
   "cell_type": "code",
   "execution_count": 2,
   "metadata": {
    "id": "PYSHbEWUY_39"
   },
   "outputs": [
    {
     "data": {
      "text/plain": [
       "(1030, 50, 37)"
      ]
     },
     "execution_count": 2,
     "metadata": {},
     "output_type": "execute_result"
    }
   ],
   "source": [
    "faces_train, faces_test, target_train, target_test=train_test_split(faces,target,train_size=0.8)\n",
    "faces_train.shape"
   ]
  },
  {
   "cell_type": "markdown",
   "metadata": {
    "id": "6URwmKjPF9Ry"
   },
   "source": [
    "\n",
    "Here are the imports that you will need:"
   ]
  },
  {
   "cell_type": "code",
   "execution_count": 3,
   "metadata": {
    "id": "rCt1qlA2E1At"
   },
   "outputs": [],
   "source": [
    "import torch\n",
    "import torch.nn as nn\n",
    "from torch.optim import Adam"
   ]
  },
  {
   "cell_type": "markdown",
   "metadata": {
    "id": "G25yvqdtYdZe"
   },
   "source": [
    "The faces dataset is already scaled appropriately, so we can skip that step. Next, we convert the training and testing targets to pytorch tensors and modify their shape."
   ]
  },
  {
   "cell_type": "code",
   "execution_count": 4,
   "metadata": {
    "id": "mfL8X5EH9LRq"
   },
   "outputs": [],
   "source": [
    "faces_train=torch.tensor(faces_train).float().reshape(-1,1,50,37)\n",
    "faces_test=torch.tensor(faces_test).float().reshape(-1,1,50,37)\n",
    "target_train=torch.tensor(target_train)\n",
    "target_test=torch.tensor(target_test)"
   ]
  },
  {
   "cell_type": "markdown",
   "metadata": {
    "id": "4kyT-Jg1xLiy"
   },
   "source": [
    "Create a CNN!"
   ]
  },
  {
   "cell_type": "code",
   "execution_count": 9,
   "metadata": {
    "id": "FmALBder8Y67"
   },
   "outputs": [],
   "source": [
    "model=nn.Sequential(\n",
    "    nn.Conv2d(1, 32, kernel_size=3, padding=1),\n",
    "    nn.BatchNorm2d(32),\n",
    "    nn.ReLU(),\n",
    "    nn.MaxPool2d(2),\n",
    "\n",
    "    nn.Conv2d(32, 64, kernel_size=3, padding=1),\n",
    "    nn.BatchNorm2d(64),\n",
    "    nn.ReLU(),\n",
    "    nn.MaxPool2d(2),\n",
    "\n",
    "    nn.Conv2d(64, 128, kernel_size=3, padding=1),\n",
    "    nn.BatchNorm2d(128),\n",
    "    nn.ReLU(),\n",
    "    nn.MaxPool2d(2),\n",
    "\n",
    "    nn.Flatten(),\n",
    "    nn.Linear(128 * 6 * 4, 256),\n",
    "    nn.ReLU(),\n",
    "    nn.Dropout(0.3),\n",
    "    nn.Linear(256, len(names))\n",
    ")"
   ]
  },
  {
   "cell_type": "markdown",
   "metadata": {
    "id": "-suOCW-Vyur-"
   },
   "source": [
    "Define an Adam optimizer for this model with an initial learning rate of 0.001."
   ]
  },
  {
   "cell_type": "code",
   "execution_count": 10,
   "metadata": {
    "id": "3l5Q5E148ulV"
   },
   "outputs": [],
   "source": [
    "optimizer=Adam(model.parameters(), lr=0.001)"
   ]
  },
  {
   "cell_type": "markdown",
   "metadata": {
    "id": "ZunlBYkgy9YA"
   },
   "source": [
    "Defie a training loop to fit your model faces_train and y_train. Train for 20 epochs in batches of size 32. Every other epoch report the accuracy of the model on the test set."
   ]
  },
  {
   "cell_type": "code",
   "execution_count": 11,
   "metadata": {
    "id": "3OGZTBLu80AR"
   },
   "outputs": [
    {
     "name": "stdout",
     "output_type": "stream",
     "text": [
      "epoch: 0, accuracy: 0.43410852551460266\n",
      "epoch: 2, accuracy: 0.8255813717842102\n",
      "epoch: 4, accuracy: 0.9031007885932922\n",
      "epoch: 6, accuracy: 0.9147287011146545\n",
      "epoch: 8, accuracy: 0.9418604373931885\n",
      "epoch: 10, accuracy: 0.9496123790740967\n",
      "epoch: 12, accuracy: 0.9573643207550049\n",
      "epoch: 14, accuracy: 0.961240291595459\n",
      "epoch: 16, accuracy: 0.9496123790740967\n",
      "epoch: 18, accuracy: 0.9534883499145508\n"
     ]
    }
   ],
   "source": [
    "loss_fn = nn.CrossEntropyLoss()\n",
    "n_epochs=20\n",
    "N = faces_train.shape[0]  # total number of observations in training data\n",
    "batch_size=32\n",
    "\n",
    "for epoch in range(n_epochs):\n",
    "  model.train()\n",
    "  # Shuffle the indices\n",
    "  indices = torch.randperm(N)\n",
    "\n",
    "  # Create mini-batches\n",
    "  for i in range(0, N, batch_size):\n",
    "    batch_indices = indices[i:i+batch_size]\n",
    "    batch_X = faces_train[batch_indices]\n",
    "    batch_y = target_train[batch_indices]\n",
    "\n",
    "    optimizer.zero_grad()\n",
    "    output = model(batch_X)\n",
    "    loss = loss_fn(output, batch_y)\n",
    "    loss.backward()\n",
    "    optimizer.step()\n",
    "\n",
    "  if epoch%2==0:\n",
    "    model.eval()\n",
    "    with torch.no_grad():\n",
    "      y_pred=torch.argmax(model(faces_test), dim=1)\n",
    "      accuracy=(y_pred == target_test).float().mean().item()\n",
    "      print(f\"epoch: {epoch}, accuracy: {accuracy}\")"
   ]
  },
  {
   "cell_type": "markdown",
   "metadata": {
    "id": "2Sp9yub6zGZv"
   },
   "source": [
    "Transfer your final accuracy to the file \"heomwork21gradescope.py\"."
   ]
  }
 ],
 "metadata": {
  "accelerator": "GPU",
  "colab": {
   "authorship_tag": "ABX9TyNueIVLrM0lH7/dYkWdjb/C",
   "provenance": []
  },
  "gpuClass": "standard",
  "kernelspec": {
   "display_name": "Python 3 (ipykernel)",
   "language": "python",
   "name": "python3"
  },
  "language_info": {
   "codemirror_mode": {
    "name": "ipython",
    "version": 3
   },
   "file_extension": ".py",
   "mimetype": "text/x-python",
   "name": "python",
   "nbconvert_exporter": "python",
   "pygments_lexer": "ipython3",
   "version": "3.11.6"
  }
 },
 "nbformat": 4,
 "nbformat_minor": 4
}
