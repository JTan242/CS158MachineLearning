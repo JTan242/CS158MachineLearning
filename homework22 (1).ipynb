{
 "cells": [
  {
   "cell_type": "markdown",
   "metadata": {
    "id": "Z74etR4D9a9I"
   },
   "source": [
    "**Homework 22**"
   ]
  },
  {
   "cell_type": "markdown",
   "metadata": {
    "id": "zp3AYE2j9fYO"
   },
   "source": [
    "We begin as in Homework 21 by importing a set of face images:"
   ]
  },
  {
   "cell_type": "code",
   "execution_count": 19,
   "metadata": {
    "id": "UQtnifShYfn_"
   },
   "outputs": [],
   "source": [
    "import numpy as np\n",
    "import matplotlib.pyplot as plt\n",
    "\n",
    "from sklearn.datasets import fetch_lfw_people\n",
    "lfw_people = fetch_lfw_people(min_faces_per_person=70, resize=0.4)\n",
    "faces=lfw_people.images"
   ]
  },
  {
   "cell_type": "markdown",
   "metadata": {
    "id": "XjYkg_pN9pXW"
   },
   "source": [
    "To assist with model building, it helps to clip the dimesnions of each image to numbers easily divisible by 2, and add a channel:"
   ]
  },
  {
   "cell_type": "code",
   "execution_count": 20,
   "metadata": {
    "id": "SpT3w2vL-Xr1"
   },
   "outputs": [],
   "source": [
    "faces=faces[:,:48,:36] #clip each image to 48 x 36\n",
    "faces=faces.reshape((1288,48,36,1)) #add a channel"
   ]
  },
  {
   "cell_type": "markdown",
   "metadata": {
    "id": "W_-MohPdtOTk"
   },
   "source": [
    "The purpose of this assignment is to build a neural network to remove noise from images. You'll test your network on an image of George W. Bush:"
   ]
  },
  {
   "cell_type": "code",
   "execution_count": 21,
   "metadata": {
    "id": "oiZH1oB-q5t7"
   },
   "outputs": [
    {
     "data": {
      "text/plain": [
       "<matplotlib.image.AxesImage at 0x2565b6675f0>"
      ]
     },
     "execution_count": 21,
     "metadata": {},
     "output_type": "execute_result"
    },
    {
     "data": {
      "image/png": "[encoded data removed]",
      "text/plain": [
       "<Figure size 640x480 with 1 Axes>"
      ]
     },
     "metadata": {},
     "output_type": "display_data"
    }
   ],
   "source": [
    "bush=faces[10]\n",
    "plt.imshow(bush,cmap='gray')"
   ]
  },
  {
   "cell_type": "markdown",
   "metadata": {
    "id": "b5NhPl9htdf-"
   },
   "source": [
    "Your goal will be to restore this image from one in which noise has been introduced:"
   ]
  },
  {
   "cell_type": "code",
   "execution_count": 22,
   "metadata": {
    "id": "YrxNLosHg2yd"
   },
   "outputs": [
    {
     "data": {
      "text/plain": [
       "<matplotlib.image.AxesImage at 0x2565b673260>"
      ]
     },
     "execution_count": 22,
     "metadata": {},
     "output_type": "execute_result"
    },
    {
     "data": {
      "image/png": "[encoded data removed]",
      "text/plain": [
       "<Figure size 640x480 with 1 Axes>"
      ]
     },
     "metadata": {},
     "output_type": "display_data"
    }
   ],
   "source": [
    "noisyface=(np.random.choice([0]+9*[1],48*36).reshape(48,36,1))*bush\n",
    "plt.imshow(noisyface,cmap='gray')"
   ]
  },
  {
   "cell_type": "markdown",
   "metadata": {
    "id": "ELtClLU6-CV_"
   },
   "source": [
    "We load the necessary model building imports from PyTorch."
   ]
  },
  {
   "cell_type": "code",
   "execution_count": 23,
   "metadata": {
    "id": "c3iPm5JA59JK"
   },
   "outputs": [],
   "source": [
    "import torch\n",
    "import torch.nn as nn\n",
    "from torch.optim import Adam"
   ]
  },
  {
   "cell_type": "markdown",
   "metadata": {
    "id": "bPl7WuugtvWh"
   },
   "source": [
    "The first step is to convert our data to the correct type:"
   ]
  },
  {
   "cell_type": "code",
   "execution_count": 24,
   "metadata": {
    "id": "Ot522VXHtu-K"
   },
   "outputs": [],
   "source": [
    "faces=torch.tensor(faces).float().reshape(-1,1,48,36)"
   ]
  },
  {
   "cell_type": "markdown",
   "metadata": {
    "id": "pgF3T_DN-al5"
   },
   "source": [
    "Now, build encoder, decoder, and autoencoder models. I've started this for you with a dropout layer in the encoder, which turns some pixels \"off\". This simulates noise in the image during training. During inference (i.e. when you use the trained model to remove noise form an image) don't forget to call model.eval() to turn off the Dropout layer. When we train this we'll use the same image for both feature and target, producing a model that takes in noisy images and produces \"clean\" ones.\n",
    "\n",
    "Each image in the `faces` dataset is already normalized so the pixel values are between 0 and 1. Make sure the final layer of your decoder outputs only numbers between 0 and 1 (hint: what function did we learn in class that has outputs betwen 0 and 1?)"
   ]
  },
  {
   "cell_type": "code",
   "execution_count": 25,
   "metadata": {
    "id": "TfF78sEZXgBP"
   },
   "outputs": [],
   "source": [
    "encoder=nn.Sequential(\n",
    "    nn.Dropout(0.1),\n",
    "    nn.Conv2d(1, 16, 3, padding=1),\n",
    "    nn.ReLU(),\n",
    "    nn.MaxPool2d(2),\n",
    "\n",
    "    nn.Conv2d(16, 64, 3, padding=1),\n",
    "    nn.ReLU(),\n",
    "    nn.MaxPool2d(2),\n",
    "\n",
    "    nn.Conv2d(64, 128, 3, padding=1),\n",
    "    nn.ReLU(),\n",
    "    nn.MaxPool2d(3)\n",
    ")\n",
    "\n",
    "decoder=nn.Sequential(\n",
    "    nn.ConvTranspose2d(in_channels=128, out_channels=64, kernel_size=3, stride=3, padding=0),\n",
    "    nn.ConvTranspose2d(in_channels=64, out_channels=16, kernel_size=2, stride=2, padding=0),\n",
    "    nn.ConvTranspose2d(in_channels=16, out_channels=1, kernel_size=2, stride=2, padding=0),\n",
    "    nn.Sigmoid()\n",
    ")\n",
    "\n",
    "autoencoder=nn.Sequential(encoder,decoder)"
   ]
  },
  {
   "cell_type": "markdown",
   "metadata": {
    "id": "7mbNXuci-h_h"
   },
   "source": [
    "Define an Adam optimizer for this model with an initial learning rate of 0.001."
   ]
  },
  {
   "cell_type": "code",
   "execution_count": 26,
   "metadata": {
    "id": "KxCy8JajZb70"
   },
   "outputs": [],
   "source": [
    "optimizer= Adam(autoencoder.parameters(), lr=0.001)"
   ]
  },
  {
   "cell_type": "markdown",
   "metadata": {
    "id": "IdDgTFkPAyIF"
   },
   "source": [
    "Define a training loop to fit your model. Periodically report your loss."
   ]
  },
  {
   "cell_type": "code",
   "execution_count": 27,
   "metadata": {
    "id": "HpAKRERzZfvq"
   },
   "outputs": [
    {
     "name": "stdout",
     "output_type": "stream",
     "text": [
      "epoch: 0, loss: 0.025240909308195114\n",
      "epoch: 100, loss: 0.00433745700865984\n",
      "epoch: 200, loss: 0.0035670818760991096\n",
      "epoch: 300, loss: 0.0030214085709303617\n",
      "epoch: 400, loss: 0.00307147903367877\n",
      "epoch: 500, loss: 0.0028846708592027426\n",
      "epoch: 600, loss: 0.0026960589457303286\n",
      "epoch: 700, loss: 0.0023670962546020746\n",
      "epoch: 800, loss: 0.0024864429142326117\n",
      "epoch: 900, loss: 0.002156777074560523\n"
     ]
    }
   ],
   "source": [
    "n_epochs=1000\n",
    "N = faces.shape[0]  # total number of observations in training data\n",
    "batch_size=100\n",
    "\n",
    "for epoch in range(n_epochs):\n",
    "  # Shuffle the indices\n",
    "  indices = torch.randperm(N)\n",
    "\n",
    "  # Create mini-batches\n",
    "  for i in range(0, N, batch_size):\n",
    "    batch_indices = indices[i:i+batch_size]\n",
    "    batch_X = faces[batch_indices]\n",
    "    batch_y = faces[batch_indices]\n",
    "\n",
    "    optimizer.zero_grad()\n",
    "    MSEloss = nn.MSELoss()(autoencoder(batch_X), batch_y)\n",
    "    MSEloss.backward()\n",
    "    optimizer.step()\n",
    "\n",
    "  if epoch%100==0:\n",
    "    print(f\"epoch: {epoch}, loss: {MSEloss.item()}\")"
   ]
  },
  {
   "cell_type": "markdown",
   "metadata": {
    "id": "PN_JYLFXA3SW"
   },
   "source": [
    "If your model works correctly, this code should remove the noise in the noisyface image:"
   ]
  },
  {
   "cell_type": "code",
   "execution_count": 31,
   "metadata": {
    "id": "wr81EZc_hThQ"
   },
   "outputs": [
    {
     "name": "stderr",
     "output_type": "stream",
     "text": [
      "C:\\Users\\teren\\AppData\\Local\\Temp\\ipykernel_14304\\793903556.py:1: UserWarning: To copy construct from a tensor, it is recommended to use sourceTensor.clone().detach() or sourceTensor.clone().detach().requires_grad_(True), rather than torch.tensor(sourceTensor).\n",
      "  noisyface=torch.tensor(noisyface).float().reshape(1,1,48,36)\n"
     ]
    }
   ],
   "source": [
    "noisyface=torch.tensor(noisyface).float().reshape(1,1,48,36)\n",
    "\n",
    "autoencoder.eval()\n",
    "denoisedface=autoencoder(noisyface)"
   ]
  },
  {
   "cell_type": "markdown",
   "metadata": {
    "id": "IHNyigF1BA_u"
   },
   "source": [
    "Let's look at it! You're image should be slightly blurrier than the original image, but all the black pixels should be restored."
   ]
  },
  {
   "cell_type": "code",
   "execution_count": 32,
   "metadata": {
    "id": "6Q8ElDtKf1me"
   },
   "outputs": [
    {
     "data": {
      "text/plain": [
       "<matplotlib.image.AxesImage at 0x2565b680410>"
      ]
     },
     "execution_count": 32,
     "metadata": {},
     "output_type": "execute_result"
    },
    {
     "data": {
      "image/png": "[encoded data removed]",
      "text/plain": [
       "<Figure size 640x480 with 1 Axes>"
      ]
     },
     "metadata": {},
     "output_type": "display_data"
    }
   ],
   "source": [
    "plt.imshow(denoisedface.detach().numpy().reshape(48,36),cmap='gray')"
   ]
  },
  {
   "cell_type": "markdown",
   "metadata": {
    "id": "wVE6oESnBDIv"
   },
   "source": [
    "Take a screen shot of your denoised image, and upload that to gradescope. (You'll have to upload as a pdf. Contact me for help with file conversion, if you need it.)"
   ]
  }
 ],
 "metadata": {
  "colab": {
   "authorship_tag": "ABX9TyPTWZmjFNWxYB78B4r/TM2g",
   "provenance": []
  },
  "kernelspec": {
   "display_name": "Python 3 (ipykernel)",
   "language": "python",
   "name": "python3"
  },
  "language_info": {
   "codemirror_mode": {
    "name": "ipython",
    "version": 3
   },
   "file_extension": ".py",
   "mimetype": "text/x-python",
   "name": "python",
   "nbconvert_exporter": "python",
   "pygments_lexer": "ipython3",
   "version": "3.12.7"
  }
 },
 "nbformat": 4,
 "nbformat_minor": 4
}
